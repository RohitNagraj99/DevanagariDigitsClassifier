{
 "cells": [
  {
   "cell_type": "code",
   "execution_count": 5,
   "metadata": {},
   "outputs": [],
   "source": [
    "import numpy as np\n",
    "from matplotlib import image\n",
    "from matplotlib import pyplot as plt\n",
    "import os"
   ]
  },
  {
   "cell_type": "code",
   "execution_count": 16,
   "metadata": {},
   "outputs": [],
   "source": [
    "classes = os.listdir('./Test/')"
   ]
  },
  {
   "cell_type": "code",
   "execution_count": 17,
   "metadata": {},
   "outputs": [
    {
     "name": "stdout",
     "output_type": "stream",
     "text": [
      "0\n",
      "1700\n",
      "1\n",
      "1700\n",
      "2\n",
      "1700\n",
      "3\n",
      "1700\n",
      "4\n",
      "1700\n",
      "5\n",
      "1700\n",
      "6\n",
      "1700\n",
      "7\n",
      "1700\n",
      "8\n",
      "1700\n",
      "9\n",
      "1700\n"
     ]
    }
   ],
   "source": [
    "# Loading train data into numpy array\n",
    "x_train = []\n",
    "y_train = []\n",
    "for i in range(10):\n",
    "    print(i)\n",
    "    c=0\n",
    "    for j in os.listdir(\"./Train/\" + \"digit_\" + str(i)):\n",
    "        c+=1\n",
    "        img = image.imread(\"./Train/\" + 'digit_' + str(i) + \"/\"+ j)\n",
    "        x_train.append(img)\n",
    "        y_train.append(i)\n",
    "    print(c)\n",
    "    \n",
    "x_train = np.array(x_train)\n",
    "y_train = np.array(y_train)\n",
    "x_train = x_train.reshape(17000, 1, 32, 32)"
   ]
  },
  {
   "cell_type": "code",
   "execution_count": 18,
   "metadata": {},
   "outputs": [
    {
     "name": "stdout",
     "output_type": "stream",
     "text": [
      "0\n",
      "300\n",
      "1\n",
      "300\n",
      "2\n",
      "300\n",
      "3\n",
      "300\n",
      "4\n",
      "300\n",
      "5\n",
      "300\n",
      "6\n",
      "300\n",
      "7\n",
      "300\n",
      "8\n",
      "300\n",
      "9\n",
      "300\n"
     ]
    }
   ],
   "source": [
    "# Load test data\n",
    "x_test = []\n",
    "y_test = []\n",
    "for i in range(10):\n",
    "    print(i)\n",
    "    c=0\n",
    "    for j in os.listdir(\"./Test/\" + \"digit_\" + str(i)):\n",
    "        c+=1\n",
    "        img = image.imread(\"./Test/\" + 'digit_' + str(i) + \"/\"+ j)\n",
    "        x_test.append(img)\n",
    "        y_test.append(i)\n",
    "    print(c)\n",
    "    \n",
    "x_test = np.array(x_test)\n",
    "y_test = np.array(y_test)\n",
    "x_test = x_test.reshape(3000, 1, 32, 32)"
   ]
  },
  {
   "cell_type": "code",
   "execution_count": 19,
   "metadata": {},
   "outputs": [
    {
     "name": "stdout",
     "output_type": "stream",
     "text": [
      "9\n"
     ]
    },
    {
     "data": {
      "image/png": "[encoded data removed]",
      "text/plain": [
       "<Figure size 432x288 with 1 Axes>"
      ]
     },
     "metadata": {
      "needs_background": "light"
     },
     "output_type": "display_data"
    }
   ],
   "source": [
    "i = 2700\n",
    "\n",
    "plt.imshow(x_test[i].reshape(32,32), cmap='gray')\n",
    "print(y_test[i])"
   ]
  },
  {
   "cell_type": "code",
   "execution_count": 20,
   "metadata": {},
   "outputs": [],
   "source": [
    "dataset = np.array([x_train, y_train, x_test, y_test])"
   ]
  },
  {
   "cell_type": "code",
   "execution_count": 21,
   "metadata": {},
   "outputs": [],
   "source": [
    "np.save(\"data\", dataset)"
   ]
  },
  {
   "cell_type": "code",
   "execution_count": 22,
   "metadata": {},
   "outputs": [
    {
     "name": "stdout",
     "output_type": "stream",
     "text": [
      "x_train shape: (17000, 32, 32, 1)\n",
      "17000 train samples\n",
      "3000 test samples\n",
      "Train on 17000 samples, validate on 3000 samples\n",
      "Epoch 1/12\n",
      "17000/17000 [==============================] - 35s 2ms/step - loss: 0.3153 - accuracy: 0.8979 - val_loss: 0.0541 - val_accuracy: 0.9853\n",
      "Epoch 2/12\n",
      "17000/17000 [==============================] - 34s 2ms/step - loss: 0.0867 - accuracy: 0.9729 - val_loss: 0.0307 - val_accuracy: 0.9910\n",
      "Epoch 3/12\n",
      "17000/17000 [==============================] - 33s 2ms/step - loss: 0.0529 - accuracy: 0.9841 - val_loss: 0.0299 - val_accuracy: 0.9920\n",
      "Epoch 4/12\n",
      "17000/17000 [==============================] - 35s 2ms/step - loss: 0.0382 - accuracy: 0.9886 - val_loss: 0.0303 - val_accuracy: 0.9923\n",
      "Epoch 5/12\n",
      "17000/17000 [==============================] - 35s 2ms/step - loss: 0.0294 - accuracy: 0.9910 - val_loss: 0.0269 - val_accuracy: 0.9927\n",
      "Epoch 6/12\n",
      "17000/17000 [==============================] - 35s 2ms/step - loss: 0.0249 - accuracy: 0.9925 - val_loss: 0.0298 - val_accuracy: 0.9933\n",
      "Epoch 7/12\n",
      "17000/17000 [==============================] - 35s 2ms/step - loss: 0.0184 - accuracy: 0.9950 - val_loss: 0.0282 - val_accuracy: 0.9937\n",
      "Epoch 8/12\n",
      "17000/17000 [==============================] - 35s 2ms/step - loss: 0.0170 - accuracy: 0.9946 - val_loss: 0.0299 - val_accuracy: 0.9933\n",
      "Epoch 9/12\n",
      "17000/17000 [==============================] - 35s 2ms/step - loss: 0.0131 - accuracy: 0.9956 - val_loss: 0.0339 - val_accuracy: 0.9927\n",
      "Epoch 10/12\n",
      "17000/17000 [==============================] - 35s 2ms/step - loss: 0.0139 - accuracy: 0.9962 - val_loss: 0.0298 - val_accuracy: 0.9933\n",
      "Epoch 11/12\n",
      "17000/17000 [==============================] - 35s 2ms/step - loss: 0.0121 - accuracy: 0.9970 - val_loss: 0.0271 - val_accuracy: 0.9947\n",
      "Epoch 12/12\n",
      "17000/17000 [==============================] - 29s 2ms/step - loss: 0.0112 - accuracy: 0.9969 - val_loss: 0.0302 - val_accuracy: 0.9940\n",
      "Test loss: 0.030179321767778676\n",
      "Test accuracy: 0.9940000176429749\n"
     ]
    }
   ],
   "source": [
    "from __future__ import print_function\n",
    "import keras\n",
    "from keras.datasets import mnist\n",
    "from keras.models import Sequential\n",
    "from keras.layers import Dense, Dropout, Flatten\n",
    "from keras.layers import Conv2D, MaxPooling2D\n",
    "from keras import backend as K\n",
    "\n",
    "batch_size = 32\n",
    "num_classes = 10\n",
    "epochs = 12\n",
    "\n",
    "# input image dimensions\n",
    "img_rows, img_cols = 32, 32\n",
    "\n",
    "# the data, split between train and test sets\n",
    "# (x_train, y_train), (x_test, y_test) = ((X_train, y_train), (X_test, y_test))\n",
    "\n",
    "if K.image_data_format() == 'channels_first':\n",
    "    x_train = x_train.reshape(x_train.shape[0], 1, img_rows, img_cols)\n",
    "    x_test = x_test.reshape(x_test.shape[0], 1, img_rows, img_cols)\n",
    "    input_shape = (1, img_rows, img_cols)\n",
    "else:\n",
    "    x_train = x_train.reshape(x_train.shape[0], img_rows, img_cols, 1)\n",
    "    x_test = x_test.reshape(x_test.shape[0], img_rows, img_cols, 1)\n",
    "    input_shape = (img_rows, img_cols, 1)\n",
    "\n",
    "x_train = x_train.astype('float32')\n",
    "x_test = x_test.astype('float32')\n",
    "# x_train /= 255\n",
    "# x_test /= 255\n",
    "print('x_train shape:', x_train.shape)\n",
    "print(x_train.shape[0], 'train samples')\n",
    "print(x_test.shape[0], 'test samples')\n",
    "\n",
    "# convert class vectors to binary class matrices\n",
    "y_train = keras.utils.to_categorical(y_train, num_classes)\n",
    "y_test = keras.utils.to_categorical(y_test, num_classes)\n",
    "\n",
    "model = Sequential()\n",
    "model.add(Conv2D(32, kernel_size=(3, 3),\n",
    "                 activation='relu',\n",
    "                 input_shape=input_shape))\n",
    "model.add(Conv2D(64, (3, 3), activation='relu'))\n",
    "model.add(MaxPooling2D(pool_size=(2, 2)))\n",
    "model.add(Dropout(0.25))\n",
    "model.add(Flatten())\n",
    "model.add(Dense(128, activation='relu'))\n",
    "model.add(Dropout(0.5))\n",
    "model.add(Dense(num_classes, activation='softmax'))\n",
    "\n",
    "model.compile(loss=keras.losses.categorical_crossentropy,\n",
    "              optimizer=keras.optimizers.Adadelta(),\n",
    "              metrics=['accuracy'])\n",
    "\n",
    "model.fit(x_train, y_train,\n",
    "          batch_size=batch_size,\n",
    "          epochs=epochs,\n",
    "          verbose=1,\n",
    "          validation_data=(x_test, y_test))\n",
    "score = model.evaluate(x_test, y_test, verbose=0)\n",
    "print('Test loss:', score[0])\n",
    "print('Test accuracy:', score[1])"
   ]
  }
 ],
 "metadata": {
  "kernelspec": {
   "display_name": "Python 3",
   "language": "python",
   "name": "python3"
  },
  "language_info": {
   "codemirror_mode": {
    "name": "ipython",
    "version": 3
   },
   "file_extension": ".py",
   "mimetype": "text/x-python",
   "name": "python",
   "nbconvert_exporter": "python",
   "pygments_lexer": "ipython3",
   "version": "3.7.4"
  }
 },
 "nbformat": 4,
 "nbformat_minor": 2
}
